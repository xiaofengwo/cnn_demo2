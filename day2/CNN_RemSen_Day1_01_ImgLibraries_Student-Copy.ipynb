{
 "cells": [
  {
   "cell_type": "markdown",
   "metadata": {},
   "source": [
    "# Image File Read"
   ]
  },
  {
   "cell_type": "markdown",
   "metadata": {},
   "source": [
    "### OpenCV"
   ]
  },
  {
   "cell_type": "code",
   "execution_count": null,
   "metadata": {},
   "outputs": [],
   "source": [
    "# import OpenCV, your code here\n",
    "import __\n",
    "\n",
    "img_cv2 = cv2.imread('OIP.jpg')\n",
    "\n",
    "print(type(img_cv2))"
   ]
  },
  {
   "cell_type": "code",
   "execution_count": null,
   "metadata": {},
   "outputs": [],
   "source": [
    "# print shape and data type of the image, your code here\n",
    "print(img_cv2.___ ,img_cv2.___)"
   ]
  },
  {
   "cell_type": "code",
   "execution_count": null,
   "metadata": {},
   "outputs": [],
   "source": [
    "cv2.imshow('image',img_cv2)\n",
    "k = cv2.waitKey(0)\n",
    "if k == 27:         # wait for ESC key to exit\n",
    "    cv2.destroyAllWindows()\n",
    "elif k == ord('s'): # wait for 's' key to save and exit\n",
    "    cv2.imwrite('OIP_1.png',img)\n",
    "    cv2.destroyAllWindows()"
   ]
  },
  {
   "cell_type": "markdown",
   "metadata": {},
   "source": [
    "### matplotlib"
   ]
  },
  {
   "cell_type": "code",
   "execution_count": null,
   "metadata": {},
   "outputs": [],
   "source": [
    "import matplotlib.pyplot as plt\n",
    "\n",
    "# matplotlib image to read file\n",
    "img = plt.imread(r\"OIP.jpg\")  \n",
    "\n",
    "# print type, shape and data type of the image, your code here\n",
    "print((__img),img.__,img.__)"
   ]
  },
  {
   "cell_type": "code",
   "execution_count": null,
   "metadata": {
    "scrolled": true
   },
   "outputs": [],
   "source": [
    "# show the image\n",
    "plt.___(img)\n",
    "# to hide tick values on X and Y axis\n",
    "plt.xticks([]), plt.yticks([])  \n",
    "plt.show()"
   ]
  },
  {
   "cell_type": "markdown",
   "metadata": {},
   "source": [
    "Use matplotlib to show cv2 opened image"
   ]
  },
  {
   "cell_type": "code",
   "execution_count": null,
   "metadata": {},
   "outputs": [],
   "source": [
    "plt.imshow(img_cv2)\n",
    "plt.xticks([]), plt.yticks([]) \n",
    "plt.show()"
   ]
  },
  {
   "cell_type": "markdown",
   "metadata": {},
   "source": [
    "The reason of the difference of above two images: OpenCV is BGR, Matplotlib is RGB"
   ]
  },
  {
   "cell_type": "markdown",
   "metadata": {},
   "source": [
    "Convert BGR to RGB"
   ]
  },
  {
   "cell_type": "code",
   "execution_count": null,
   "metadata": {},
   "outputs": [],
   "source": [
    "import numpy as np\n",
    "import cv2\n",
    "\n",
    "img_cv2 = cv2.imread('OIP.jpg')\n",
    "print(type(img_cv2),img_cv2.shape)\n",
    "\n",
    "# convert, your code here \n",
    "img_rgb = cv2.______(img_cv2, cv2.COLOR_BGR2RGB)\n",
    "\n",
    "fig, (ax1, ax2) = plt.subplots(1,2,figsize=(16,6))\n",
    "fig.suptitle('Convert BGR to RGB', fontsize=16)\n",
    "\n",
    "ax1.set_title('BGR')\n",
    "ax1.set_xticks([]), ax1.set_yticks([])\n",
    "ax1.imshow(img_cv2)\n",
    "\n",
    "ax2.set_title('RGB')\n",
    "ax2.set_xticks([]), ax2.set_yticks([])\n",
    "ax2.imshow(img_rgb)\n",
    "\n",
    "plt.show()"
   ]
  },
  {
   "cell_type": "markdown",
   "metadata": {},
   "source": [
    "### skimage"
   ]
  },
  {
   "cell_type": "code",
   "execution_count": null,
   "metadata": {},
   "outputs": [],
   "source": [
    "from skimage import io, color\n",
    "img = io.imread('OIP.jpg')\n",
    "print(type(img),img.shape,img.dtype)\n",
    "io.imshow(img)\n",
    "io.show()"
   ]
  },
  {
   "cell_type": "markdown",
   "metadata": {},
   "source": [
    "### Pillow"
   ]
  },
  {
   "cell_type": "code",
   "execution_count": null,
   "metadata": {},
   "outputs": [],
   "source": [
    "# import pillow\n",
    "from ___ import Image\n",
    "import numpy as np\n",
    "\n",
    "im = Image.open(\"OIP.jpg\")\n",
    "# If successful, this function returns an Image object. \n",
    "\n",
    "print(im.format, im.size, im.mode,type(im))\n",
    "# The format attribute identifies the source of an image. \n",
    "# The size attribute is a 2-tuple containing width and height (in pixels). \n",
    "# The mode attribute defines the number and names of the bands in the image, and also the pixel type and depth. \n",
    "# Common modes are “L” (luminance) for greyscale images, “RGB” for true color images, and “CMYK” for pre-press images.\n",
    "im.show()\n",
    "\n",
    "im_array = np.array(im)\n",
    "print(type(im_array),im_array.shape,im_array.dtype)"
   ]
  },
  {
   "cell_type": "markdown",
   "metadata": {},
   "source": [
    "## Resize"
   ]
  },
  {
   "cell_type": "markdown",
   "metadata": {},
   "source": [
    "### Use OpenCV"
   ]
  },
  {
   "cell_type": "code",
   "execution_count": null,
   "metadata": {},
   "outputs": [],
   "source": [
    "scale_percent = 30\n",
    "width = int(img_rgb.shape[1] * scale_percent / 100)\n",
    "height = int(img_rgb.shape[0] * scale_percent / 100)\n",
    "dim = (width, height)\n",
    "\n",
    "# resize image, your code here\n",
    "resized = cv2.____(img_rgb, ___ , interpolation = cv2.INTER_AREA)\n",
    "\n",
    "print(img_rgb.dtype,img_rgb.shape)\n",
    "print(resized.dtype,resized.shape)\n",
    "\n",
    "fig, (ax1, ax2) = plt.subplots(1,2,figsize=(16,6))\n",
    "fig.suptitle('Before and After Resize', fontsize=16)\n",
    "ax1.set_title('Before')\n",
    "ax1.imshow(img_rgb)\n",
    "ax2.set_title('After')\n",
    "ax2.imshow(resized)\n",
    "plt.show()"
   ]
  },
  {
   "cell_type": "markdown",
   "metadata": {},
   "source": [
    "### Use skimage"
   ]
  },
  {
   "cell_type": "code",
   "execution_count": null,
   "metadata": {},
   "outputs": [],
   "source": [
    "from skimage.transform import resize\n",
    "scale_percent = 20\n",
    "width = int(img_rgb.shape[1] * scale_percent / 100)\n",
    "height = int(img_rgb.shape[0] * scale_percent / 100)\n",
    "\n",
    "img = io.imread('OIP.jpg')\n",
    "dim = (height,width, 3)\n",
    "img_skirsz = resize(img,___)\n",
    "print(img_rgb.dtype,img_rgb.shape)\n",
    "print(img_skirsz.dtype,img_skirsz.shape)\n",
    "\n",
    "fig, (ax1, ax2) = plt.subplots(1,2,figsize=(16,6))\n",
    "fig.suptitle('Before and After Resize', fontsize=16)\n",
    "ax1.set_title('Before')\n",
    "ax1.imshow(img_rgb)\n",
    "ax2.set_title('After')\n",
    "ax2.imshow(img_skirsz)\n",
    "plt.show()"
   ]
  },
  {
   "cell_type": "markdown",
   "metadata": {},
   "source": [
    "### Use Pillow"
   ]
  },
  {
   "cell_type": "code",
   "execution_count": null,
   "metadata": {},
   "outputs": [],
   "source": [
    "from PIL import Image\n",
    "im = Image.open(\"OIP.jpg\")\n",
    "img_PIL_rsz = im.resize((64,64))"
   ]
  },
  {
   "cell_type": "code",
   "execution_count": null,
   "metadata": {},
   "outputs": [],
   "source": [
    "print(img_PIL_rsz.size, img_PIL_rsz.mode)"
   ]
  },
  {
   "cell_type": "code",
   "execution_count": null,
   "metadata": {},
   "outputs": [],
   "source": [
    "img_PIL_rsz.show() # Use default image application to show"
   ]
  },
  {
   "cell_type": "markdown",
   "metadata": {},
   "source": [
    "### Change image type from float to unit8"
   ]
  },
  {
   "cell_type": "code",
   "execution_count": null,
   "metadata": {},
   "outputs": [],
   "source": [
    "img = io.imread('OIP.jpg')\n",
    "img_skirsz = resize(img,(59,94,3))\n",
    "\n",
    "# your code here\n",
    "img_skirsz_uint8 = img_skirsz * ___ \n",
    "img_skirsz_uint8 = img_skirsz_uint8.astype(_____)\n",
    "\n",
    "print(img_skirsz.dtype, img_skirsz_uint8.dtype)"
   ]
  },
  {
   "cell_type": "code",
   "execution_count": null,
   "metadata": {
    "scrolled": false
   },
   "outputs": [],
   "source": [
    "fig, (ax1, ax2) = plt.subplots(1,2,figsize=(16,6))\n",
    "fig.suptitle('Before and After type change', fontsize=16)\n",
    "ax1.set_title('Before')\n",
    "ax1.imshow(img_skirsz)\n",
    "ax2.set_title('After')\n",
    "ax2.imshow(img_skirsz_uint8)\n",
    "plt.show()"
   ]
  },
  {
   "cell_type": "markdown",
   "metadata": {},
   "source": [
    "## Crop image"
   ]
  },
  {
   "cell_type": "markdown",
   "metadata": {},
   "source": [
    "OpenCV"
   ]
  },
  {
   "cell_type": "code",
   "execution_count": null,
   "metadata": {},
   "outputs": [],
   "source": [
    "# set image from row 0 - 200, col 100 - 400\n",
    "x=__\n",
    "w=__\n",
    "y=__\n",
    "h=__\n",
    "crop_image = img_rgb[x:w, y:h]\n",
    "\n",
    "fig, (ax1, ax2) = plt.subplots(1,2,figsize=(12,6))\n",
    "fig.suptitle('Before and After Crop', fontsize=16)\n",
    "\n",
    "ax1.set_title('Before')\n",
    "ax1.imshow(img_rgb)\n",
    "\n",
    "ax2.set_title('After')\n",
    "ax2.imshow(crop_image)\n",
    "plt.show()"
   ]
  },
  {
   "cell_type": "markdown",
   "metadata": {},
   "source": [
    "Pillow"
   ]
  },
  {
   "cell_type": "code",
   "execution_count": null,
   "metadata": {},
   "outputs": [],
   "source": [
    "im = Image.open(\"OIP.jpg\")\n",
    "left = 0\n",
    "top = 50\n",
    "right = 200\n",
    "bottom = 250\n",
    "img_res = im.crop((left, top, right, bottom))  \n",
    "img_res.show() "
   ]
  },
  {
   "cell_type": "code",
   "execution_count": null,
   "metadata": {},
   "outputs": [],
   "source": []
  }
 ],
 "metadata": {
  "kernelspec": {
   "display_name": "Python 3",
   "language": "python",
   "name": "python3"
  },
  "language_info": {
   "codemirror_mode": {
    "name": "ipython",
    "version": 3
   },
   "file_extension": ".py",
   "mimetype": "text/x-python",
   "name": "python",
   "nbconvert_exporter": "python",
   "pygments_lexer": "ipython3",
   "version": "3.8.3"
  }
 },
 "nbformat": 4,
 "nbformat_minor": 4
}
